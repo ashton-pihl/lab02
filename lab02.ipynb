{
  "cells": [
    {
      "cell_type": "markdown",
      "metadata": {},
      "source": [
        "# BEE 4750 Lab 2: Uncertainty and Monte Carlo"
      ],
      "id": "213500d5-a408-410f-b932-d00fb2ac956f"
    },
    {
      "cell_type": "markdown",
      "metadata": {},
      "source": [
        "**Name**:\n",
        "\n",
        "**ID**:"
      ],
      "id": "268427e0-c7a2-48d8-94f3-e4dd7a348c17"
    },
    {
      "cell_type": "markdown",
      "metadata": {},
      "source": [
        "> **Due Date**\n",
        ">\n",
        "> Wednesday, 9/25/24, 9:00pm\n",
        "\n",
        "## Setup\n",
        "\n",
        "The following code should go at the top of most Julia scripts; it will\n",
        "load the local package environment and install any needed packages. You\n",
        "will see this often and shouldn’t need to touch it."
      ],
      "id": "52652ce0-fc48-431d-a2c5-b3ca3e727282"
    },
    {
      "cell_type": "code",
      "execution_count": 1,
      "metadata": {},
      "outputs": [],
      "source": [
        "import Pkg\n",
        "Pkg.activate(\".\")\n",
        "Pkg.instantiate()"
      ],
      "id": "2"
    },
    {
      "cell_type": "code",
      "execution_count": 1,
      "metadata": {},
      "outputs": [],
      "source": [
        "using Random # random number generation\n",
        "using Distributions # probability distributions and interface\n",
        "using Statistics # basic statistical functions, including mean\n",
        "using Plots # plotting"
      ],
      "id": "4"
    },
    {
      "cell_type": "markdown",
      "metadata": {},
      "source": [
        "## Overview\n",
        "\n",
        "In this lab, we will use Monte Carlo analysis to analyze a version of\n",
        "the culmination of every episode of the long-running game show [The\n",
        "Price Is Right](https://en.wikipedia.org/wiki/The_Price_Is_Right): the\n",
        "[Showcase](https://en.wikipedia.org/wiki/The_Price_Is_Right#Showcase).\n",
        "\n",
        "Monte Carlo methods involve the simulation of random numbers from\n",
        "probability distributions. In an environmental context, we often\n",
        "propagate these random numbers through some more complicated model and\n",
        "then compute a resulting statistic which is relevant for assessing\n",
        "performance or risk, such as an average outcome or a particular\n",
        "quantile.\n",
        "\n",
        "You should always start any computing with random numbers by setting a\n",
        "“seed,” which controls the sequence of numbers which are generated\n",
        "(since these are not *really* random, just “pseudorandom”). In Julia, we\n",
        "do this with the `Random.seed!()` function."
      ],
      "id": "a9b19a46-49d1-4024-a320-9cb4a8755966"
    },
    {
      "cell_type": "code",
      "execution_count": 1,
      "metadata": {},
      "outputs": [
        {
          "output_type": "display_data",
          "metadata": {},
          "data": {
            "text/plain": [
              "TaskLocalRNG()"
            ]
          }
        }
      ],
      "source": [
        "Random.seed!(1)"
      ],
      "id": "6"
    },
    {
      "cell_type": "markdown",
      "metadata": {},
      "source": [
        "It doesn’t matter what seed you set, though different seeds might result\n",
        "in slightly different values. But setting a seed means every time your\n",
        "notebook is run, the answer will be the same.\n",
        "\n",
        "> **Seeds and Reproducing Solutions**\n",
        ">\n",
        "> If you don’t re-run your code in the same order or if you re-run the\n",
        "> same cell repeatedly, you will not get the same solution. If you’re\n",
        "> working on a specific problem, you might want to re-use\n",
        "> `Random.seed()` near any block of code you want to re-evaluate\n",
        "> repeatedly.\n",
        "\n",
        "### Probability Distributions and Julia\n",
        "\n",
        "Julia provides a common interface for probability distributions with the\n",
        "[`Distributions.jl`\n",
        "package](https://juliastats.org/Distributions.jl/stable/). The basic\n",
        "workflow for sampling from a distribution is:\n",
        "\n",
        "1.  Set up the distribution. The specific syntax depends on the\n",
        "    distribution and what parameters are required, but the general call\n",
        "    is the similar. For a normal distribution or a uniform distribution,\n",
        "    the syntax is\n",
        "\n",
        "    ``` julia\n",
        "    # you don't have to name this \"normal_distribution\"\n",
        "    # μ is the mean and σ is the standard deviation\n",
        "    normal_distribution = Normal(μ, σ)\n",
        "    # a is the upper bound and b is the lower bound; these can be set to +Inf or -Inf for an unbounded distribution in one or both directions.\n",
        "    uniform_distribution = Uniform(a, b)\n",
        "    ```\n",
        "\n",
        "    There are lots of both\n",
        "    [univariate](https://juliastats.org/Distributions.jl/stable/univariate/#Index)\n",
        "    and\n",
        "    [multivariate](https://juliastats.org/Distributions.jl/stable/multivariate/)\n",
        "    distributions, as well as the ability to create your own, but we\n",
        "    won’t do anything too exotic here.\n",
        "\n",
        "2.  Draw samples. This uses the `rand()` command (which, when used\n",
        "    without a distribution, just samples uniformly from the interval\n",
        "    $[0, 1]$.) For example, to sample from our normal distribution\n",
        "    above:\n",
        "\n",
        "    ``` julia\n",
        "    # draw n samples\n",
        "    rand(normal_distribution, n)\n",
        "    ```\n",
        "\n",
        "Putting this together, let’s say that we wanted to simulate 100\n",
        "six-sided dice rolls. We could use a [Discrete Uniform\n",
        "distribution](https://juliastats.org/Distributions.jl/stable/univariate/#Distributions.DiscreteUniform)."
      ],
      "id": "7ca333d6-a3fc-47a1-b250-faa23c5ac6db"
    },
    {
      "cell_type": "code",
      "execution_count": 1,
      "metadata": {},
      "outputs": [
        {
          "output_type": "display_data",
          "metadata": {},
          "data": {
            "text/plain": [
              "100-element Vector{Int64}:\n",
              " 2\n",
              " 5\n",
              " 1\n",
              " 3\n",
              " 4\n",
              " 4\n",
              " 5\n",
              " 2\n",
              " 3\n",
              " 5\n",
              " ⋮\n",
              " 2\n",
              " 5\n",
              " 4\n",
              " 2\n",
              " 6\n",
              " 6\n",
              " 6\n",
              " 6\n",
              " 3"
            ]
          }
        }
      ],
      "source": [
        "dice_dist = DiscreteUniform(1, 6) # can generate any integer between 1 and 6\n",
        "dice_rolls = rand(dice_dist, 100) # simulate rolls"
      ],
      "id": "8"
    },
    {
      "cell_type": "markdown",
      "metadata": {},
      "source": [
        "And then we can plot a histogram of these rolls:"
      ],
      "id": "e6de1aef-a88a-48bf-aab2-7d96c53e430c"
    },
    {
      "cell_type": "code",
      "execution_count": 1,
      "metadata": {},
      "outputs": [
        {
          "output_type": "display_data",
          "metadata": {},
          "data": {
            "text/html": [
              "<?xml version=\"1.0\" encoding=\"utf-8\"?>\n",
              "<svg xmlns=\"http://www.w3.org/2000/svg\" xmlns:xlink=\"http://www.w3.org/1999/xlink\" width=\"672\" height=\"480\" viewBox=\"0 0 2688 1920\">\n",
              "<defs>\n",
              "  <clipPath id=\"clip370\">\n",
              "    <rect x=\"0\" y=\"0\" width=\"2688\" height=\"1920\"/>\n",
              "  </clipPath>\n",
              "</defs>\n",
              "<path clip-path=\"url(#clip370)\" d=\"M0 1920 L2688 1920 L2688 0 L0 0  Z\" fill=\"#ffffff\" fill-rule=\"evenodd\" fill-opacity=\"1\"/>\n",
              "<defs>\n",
              "  <clipPath id=\"clip371\">\n",
              "    <rect x=\"537\" y=\"0\" width=\"1883\" height=\"1883\"/>\n",
              "  </clipPath>\n",
              "</defs>\n",
              "<path clip-path=\"url(#clip370)\" d=\"M210.238 1734.12 L2640.76 1734.12 L2640.76 47.2441 L210.238 47.2441  Z\" fill=\"#ffffff\" fill-rule=\"evenodd\" fill-opacity=\"1\"/>\n",
              "<defs>\n",
              "  <clipPath id=\"clip372\">\n",
              "    <rect x=\"210\" y=\"47\" width=\"2432\" height=\"1688\"/>\n",
              "  </clipPath>\n",
              "</defs>\n",
              "<polyline clip-path=\"url(#clip372)\" style=\"stroke:#000000; stroke-linecap:round; stroke-linejoin:round; stroke-width:2; stroke-opacity:0.1; fill:none\" points=\"343.921,1734.12 343.921,47.2441 \"/>\n",
              "<polyline clip-path=\"url(#clip372)\" style=\"stroke:#000000; stroke-linecap:round; stroke-linejoin:round; stroke-width:2; stroke-opacity:0.1; fill:none\" points=\"704.446,1734.12 704.446,47.2441 \"/>\n",
              "<polyline clip-path=\"url(#clip372)\" style=\"stroke:#000000; stroke-linecap:round; stroke-linejoin:round; stroke-width:2; stroke-opacity:0.1; fill:none\" points=\"1064.97,1734.12 1064.97,47.2441 \"/>\n",
              "<polyline clip-path=\"url(#clip372)\" style=\"stroke:#000000; stroke-linecap:round; stroke-linejoin:round; stroke-width:2; stroke-opacity:0.1; fill:none\" points=\"1425.5,1734.12 1425.5,47.2441 \"/>\n",
              "<polyline clip-path=\"url(#clip372)\" style=\"stroke:#000000; stroke-linecap:round; stroke-linejoin:round; stroke-width:2; stroke-opacity:0.1; fill:none\" points=\"1786.02,1734.12 1786.02,47.2441 \"/>\n",
              "<polyline clip-path=\"url(#clip372)\" style=\"stroke:#000000; stroke-linecap:round; stroke-linejoin:round; stroke-width:2; stroke-opacity:0.1; fill:none\" points=\"2146.55,1734.12 2146.55,47.2441 \"/>\n",
              "<polyline clip-path=\"url(#clip372)\" style=\"stroke:#000000; stroke-linecap:round; stroke-linejoin:round; stroke-width:2; stroke-opacity:0.1; fill:none\" points=\"2507.07,1734.12 2507.07,47.2441 \"/>\n",
              "<polyline clip-path=\"url(#clip370)\" style=\"stroke:#000000; stroke-linecap:round; stroke-linejoin:round; stroke-width:4; stroke-opacity:1; fill:none\" points=\"210.238,1734.12 2640.76,1734.12 \"/>\n",
              "<polyline clip-path=\"url(#clip370)\" style=\"stroke:#000000; stroke-linecap:round; stroke-linejoin:round; stroke-width:4; stroke-opacity:1; fill:none\" points=\"343.921,1734.12 343.921,1715.22 \"/>\n",
              "<polyline clip-path=\"url(#clip370)\" style=\"stroke:#000000; stroke-linecap:round; stroke-linejoin:round; stroke-width:4; stroke-opacity:1; fill:none\" points=\"704.446,1734.12 704.446,1715.22 \"/>\n",
              "<polyline clip-path=\"url(#clip370)\" style=\"stroke:#000000; stroke-linecap:round; stroke-linejoin:round; stroke-width:4; stroke-opacity:1; fill:none\" points=\"1064.97,1734.12 1064.97,1715.22 \"/>\n",
              "<polyline clip-path=\"url(#clip370)\" style=\"stroke:#000000; stroke-linecap:round; stroke-linejoin:round; stroke-width:4; stroke-opacity:1; fill:none\" points=\"1425.5,1734.12 1425.5,1715.22 \"/>\n",
              "<polyline clip-path=\"url(#clip370)\" style=\"stroke:#000000; stroke-linecap:round; stroke-linejoin:round; stroke-width:4; stroke-opacity:1; fill:none\" points=\"1786.02,1734.12 1786.02,1715.22 \"/>\n",
              "<polyline clip-path=\"url(#clip370)\" style=\"stroke:#000000; stroke-linecap:round; stroke-linejoin:round; stroke-width:4; stroke-opacity:1; fill:none\" points=\"2146.55,1734.12 2146.55,1715.22 \"/>\n",
              "<polyline clip-path=\"url(#clip370)\" style=\"stroke:#000000; stroke-linecap:round; stroke-linejoin:round; stroke-width:4; stroke-opacity:1; fill:none\" points=\"2507.07,1734.12 2507.07,1715.22 \"/>\n",
              "<path clip-path=\"url(#clip370)\" d=\"M334.303 1794.89 L341.942 1794.89 L341.942 1768.52 L333.631 1770.19 L333.631 1765.93 L341.895 1764.26 L346.571 1764.26 L346.571 1794.89 L354.21 1794.89 L354.21 1798.82 L334.303 1798.82 L334.303 1794.89 Z\" fill=\"#000000\" fill-rule=\"nonzero\" fill-opacity=\"1\" /><path clip-path=\"url(#clip370)\" d=\"M699.099 1794.89 L715.418 1794.89 L715.418 1798.82 L693.474 1798.82 L693.474 1794.89 Q696.136 1792.13 700.719 1787.5 Q705.326 1782.85 706.506 1781.51 Q708.752 1778.98 709.631 1777.25 Q710.534 1775.49 710.534 1773.8 Q710.534 1771.04 708.59 1769.31 Q706.668 1767.57 703.566 1767.57 Q701.367 1767.57 698.914 1768.34 Q696.483 1769.1 693.705 1770.65 L693.705 1765.93 Q696.529 1764.79 698.983 1764.21 Q701.437 1763.64 703.474 1763.64 Q708.844 1763.64 712.039 1766.32 Q715.233 1769.01 715.233 1773.5 Q715.233 1775.63 714.423 1777.55 Q713.636 1779.45 711.529 1782.04 Q710.951 1782.71 707.849 1785.93 Q704.747 1789.12 699.099 1794.89 Z\" fill=\"#000000\" fill-rule=\"nonzero\" fill-opacity=\"1\" /><path clip-path=\"url(#clip370)\" d=\"M1069.22 1780.19 Q1072.58 1780.9 1074.45 1783.17 Q1076.35 1785.44 1076.35 1788.77 Q1076.35 1793.89 1072.83 1796.69 Q1069.31 1799.49 1062.83 1799.49 Q1060.65 1799.49 1058.34 1799.05 Q1056.05 1798.64 1053.59 1797.78 L1053.59 1793.27 Q1055.54 1794.4 1057.85 1794.98 Q1060.17 1795.56 1062.69 1795.56 Q1067.09 1795.56 1069.38 1793.82 Q1071.7 1792.08 1071.7 1788.77 Q1071.7 1785.72 1069.54 1784.01 Q1067.41 1782.27 1063.59 1782.27 L1059.57 1782.27 L1059.57 1778.43 L1063.78 1778.43 Q1067.23 1778.43 1069.06 1777.06 Q1070.89 1775.67 1070.89 1773.08 Q1070.89 1770.42 1068.99 1769.01 Q1067.11 1767.57 1063.59 1767.57 Q1061.67 1767.57 1059.47 1767.99 Q1057.27 1768.4 1054.64 1769.28 L1054.64 1765.12 Q1057.3 1764.38 1059.61 1764.01 Q1061.95 1763.64 1064.01 1763.64 Q1069.33 1763.64 1072.44 1766.07 Q1075.54 1768.47 1075.54 1772.59 Q1075.54 1775.46 1073.9 1777.46 Q1072.25 1779.42 1069.22 1780.19 Z\" fill=\"#000000\" fill-rule=\"nonzero\" fill-opacity=\"1\" /><path clip-path=\"url(#clip370)\" d=\"M1428.51 1768.34 L1416.7 1786.78 L1428.51 1786.78 L1428.51 1768.34 M1427.28 1764.26 L1433.16 1764.26 L1433.16 1786.78 L1438.09 1786.78 L1438.09 1790.67 L1433.16 1790.67 L1433.16 1798.82 L1428.51 1798.82 L1428.51 1790.67 L1412.9 1790.67 L1412.9 1786.16 L1427.28 1764.26 Z\" fill=\"#000000\" fill-rule=\"nonzero\" fill-opacity=\"1\" /><path clip-path=\"url(#clip370)\" d=\"M1776.3 1764.26 L1794.66 1764.26 L1794.66 1768.2 L1780.58 1768.2 L1780.58 1776.67 Q1781.6 1776.32 1782.62 1776.16 Q1783.64 1775.97 1784.66 1775.97 Q1790.44 1775.97 1793.82 1779.15 Q1797.2 1782.32 1797.2 1787.73 Q1797.2 1793.31 1793.73 1796.41 Q1790.26 1799.49 1783.94 1799.49 Q1781.76 1799.49 1779.49 1799.12 Q1777.25 1798.75 1774.84 1798.01 L1774.84 1793.31 Q1776.93 1794.45 1779.15 1795 Q1781.37 1795.56 1783.85 1795.56 Q1787.85 1795.56 1790.19 1793.45 Q1792.53 1791.34 1792.53 1787.73 Q1792.53 1784.12 1790.19 1782.02 Q1787.85 1779.91 1783.85 1779.91 Q1781.97 1779.91 1780.1 1780.33 Q1778.24 1780.74 1776.3 1781.62 L1776.3 1764.26 Z\" fill=\"#000000\" fill-rule=\"nonzero\" fill-opacity=\"1\" /><path clip-path=\"url(#clip370)\" d=\"M2146.95 1779.68 Q2143.8 1779.68 2141.95 1781.83 Q2140.12 1783.98 2140.12 1787.73 Q2140.12 1791.46 2141.95 1793.64 Q2143.8 1795.79 2146.95 1795.79 Q2150.1 1795.79 2151.93 1793.64 Q2153.78 1791.46 2153.78 1787.73 Q2153.78 1783.98 2151.93 1781.83 Q2150.1 1779.68 2146.95 1779.68 M2156.24 1765.02 L2156.24 1769.28 Q2154.48 1768.45 2152.67 1768.01 Q2150.89 1767.57 2149.13 1767.57 Q2144.5 1767.57 2142.05 1770.7 Q2139.61 1773.82 2139.27 1780.14 Q2140.63 1778.13 2142.69 1777.06 Q2144.75 1775.97 2147.23 1775.97 Q2152.44 1775.97 2155.45 1779.15 Q2158.48 1782.29 2158.48 1787.73 Q2158.48 1793.06 2155.33 1796.27 Q2152.18 1799.49 2146.95 1799.49 Q2140.96 1799.49 2137.79 1794.91 Q2134.61 1790.3 2134.61 1781.58 Q2134.61 1773.38 2138.5 1768.52 Q2142.39 1763.64 2148.94 1763.64 Q2150.7 1763.64 2152.49 1763.98 Q2154.29 1764.33 2156.24 1765.02 Z\" fill=\"#000000\" fill-rule=\"nonzero\" fill-opacity=\"1\" /><path clip-path=\"url(#clip370)\" d=\"M2495.96 1764.26 L2518.18 1764.26 L2518.18 1766.25 L2505.64 1798.82 L2500.75 1798.82 L2512.56 1768.2 L2495.96 1768.2 L2495.96 1764.26 Z\" fill=\"#000000\" fill-rule=\"nonzero\" fill-opacity=\"1\" /><path clip-path=\"url(#clip370)\" d=\"M1264.87 1841.06 L1264.87 1878.02 L1272.64 1878.02 Q1282.48 1878.02 1287.03 1873.56 Q1291.61 1869.11 1291.61 1859.49 Q1291.61 1849.94 1287.03 1845.52 Q1282.48 1841.06 1272.64 1841.06 L1264.87 1841.06 M1258.44 1835.78 L1271.65 1835.78 Q1285.47 1835.78 1291.93 1841.54 Q1298.39 1847.27 1298.39 1859.49 Q1298.39 1871.78 1291.9 1877.54 Q1285.4 1883.3 1271.65 1883.3 L1258.44 1883.3 L1258.44 1835.78 Z\" fill=\"#000000\" fill-rule=\"nonzero\" fill-opacity=\"1\" /><path clip-path=\"url(#clip370)\" d=\"M1308.38 1847.65 L1314.24 1847.65 L1314.24 1883.3 L1308.38 1883.3 L1308.38 1847.65 M1308.38 1833.78 L1314.24 1833.78 L1314.24 1841.19 L1308.38 1841.19 L1308.38 1833.78 Z\" fill=\"#000000\" fill-rule=\"nonzero\" fill-opacity=\"1\" /><path clip-path=\"url(#clip370)\" d=\"M1352.15 1849.02 L1352.15 1854.5 Q1349.67 1853.13 1347.15 1852.46 Q1344.67 1851.76 1342.12 1851.76 Q1336.42 1851.76 1333.27 1855.39 Q1330.12 1858.98 1330.12 1865.51 Q1330.12 1872.03 1333.27 1875.66 Q1336.42 1879.26 1342.12 1879.26 Q1344.67 1879.26 1347.15 1878.59 Q1349.67 1877.89 1352.15 1876.52 L1352.15 1881.93 Q1349.7 1883.08 1347.06 1883.65 Q1344.45 1884.22 1341.49 1884.22 Q1333.43 1884.22 1328.69 1879.16 Q1323.95 1874.1 1323.95 1865.51 Q1323.95 1856.79 1328.72 1851.79 Q1333.53 1846.79 1341.87 1846.79 Q1344.57 1846.79 1347.15 1847.37 Q1349.73 1847.91 1352.15 1849.02 Z\" fill=\"#000000\" fill-rule=\"nonzero\" fill-opacity=\"1\" /><path clip-path=\"url(#clip370)\" d=\"M1392.82 1864.01 L1392.82 1866.88 L1365.9 1866.88 Q1366.28 1872.92 1369.53 1876.11 Q1372.8 1879.26 1378.63 1879.26 Q1382 1879.26 1385.15 1878.43 Q1388.34 1877.6 1391.46 1875.95 L1391.46 1881.49 Q1388.31 1882.82 1385 1883.52 Q1381.68 1884.22 1378.28 1884.22 Q1369.75 1884.22 1364.75 1879.26 Q1359.79 1874.29 1359.79 1865.83 Q1359.79 1857.07 1364.5 1851.95 Q1369.24 1846.79 1377.26 1846.79 Q1384.45 1846.79 1388.62 1851.44 Q1392.82 1856.06 1392.82 1864.01 M1386.97 1862.29 Q1386.9 1857.49 1384.26 1854.62 Q1381.65 1851.76 1377.32 1851.76 Q1372.42 1851.76 1369.46 1854.53 Q1366.53 1857.3 1366.09 1862.33 L1386.97 1862.29 Z\" fill=\"#000000\" fill-rule=\"nonzero\" fill-opacity=\"1\" /><path clip-path=\"url(#clip370)\" d=\"M1435.67 1883.3 L1417.52 1835.78 L1424.24 1835.78 L1439.29 1875.79 L1454.38 1835.78 L1461.07 1835.78 L1442.95 1883.3 L1435.67 1883.3 Z\" fill=\"#000000\" fill-rule=\"nonzero\" fill-opacity=\"1\" /><path clip-path=\"url(#clip370)\" d=\"M1478.89 1865.38 Q1471.79 1865.38 1469.05 1867 Q1466.32 1868.63 1466.32 1872.54 Q1466.32 1875.66 1468.35 1877.51 Q1470.42 1879.32 1473.96 1879.32 Q1478.83 1879.32 1481.75 1875.88 Q1484.71 1872.42 1484.71 1866.69 L1484.71 1865.38 L1478.89 1865.38 M1490.57 1862.96 L1490.57 1883.3 L1484.71 1883.3 L1484.71 1877.89 Q1482.71 1881.14 1479.72 1882.7 Q1476.72 1884.22 1472.4 1884.22 Q1466.92 1884.22 1463.68 1881.17 Q1460.46 1878.08 1460.46 1872.92 Q1460.46 1866.91 1464.47 1863.85 Q1468.51 1860.8 1476.5 1860.8 L1484.71 1860.8 L1484.71 1860.23 Q1484.71 1856.18 1482.04 1853.99 Q1479.4 1851.76 1474.59 1851.76 Q1471.54 1851.76 1468.64 1852.49 Q1465.74 1853.22 1463.07 1854.69 L1463.07 1849.28 Q1466.29 1848.03 1469.31 1847.43 Q1472.33 1846.79 1475.2 1846.79 Q1482.93 1846.79 1486.75 1850.8 Q1490.57 1854.81 1490.57 1862.96 Z\" fill=\"#000000\" fill-rule=\"nonzero\" fill-opacity=\"1\" /><path clip-path=\"url(#clip370)\" d=\"M1502.63 1833.78 L1508.49 1833.78 L1508.49 1883.3 L1502.63 1883.3 L1502.63 1833.78 Z\" fill=\"#000000\" fill-rule=\"nonzero\" fill-opacity=\"1\" /><path clip-path=\"url(#clip370)\" d=\"M1520.14 1869.23 L1520.14 1847.65 L1526 1847.65 L1526 1869.01 Q1526 1874.07 1527.97 1876.62 Q1529.94 1879.13 1533.89 1879.13 Q1538.63 1879.13 1541.37 1876.11 Q1544.14 1873.08 1544.14 1867.86 L1544.14 1847.65 L1549.99 1847.65 L1549.99 1883.3 L1544.14 1883.3 L1544.14 1877.83 Q1542.01 1881.07 1539.17 1882.66 Q1536.37 1884.22 1532.65 1884.22 Q1526.5 1884.22 1523.32 1880.4 Q1520.14 1876.59 1520.14 1869.23 M1534.88 1846.79 L1534.88 1846.79 Z\" fill=\"#000000\" fill-rule=\"nonzero\" fill-opacity=\"1\" /><path clip-path=\"url(#clip370)\" d=\"M1592.55 1864.01 L1592.55 1866.88 L1565.62 1866.88 Q1566 1872.92 1569.25 1876.11 Q1572.53 1879.26 1578.35 1879.26 Q1581.73 1879.26 1584.88 1878.43 Q1588.06 1877.6 1591.18 1875.95 L1591.18 1881.49 Q1588.03 1882.82 1584.72 1883.52 Q1581.41 1884.22 1578 1884.22 Q1569.47 1884.22 1564.48 1879.26 Q1559.51 1874.29 1559.51 1865.83 Q1559.51 1857.07 1564.22 1851.95 Q1568.96 1846.79 1576.98 1846.79 Q1584.18 1846.79 1588.35 1851.44 Q1592.55 1856.06 1592.55 1864.01 M1586.69 1862.29 Q1586.63 1857.49 1583.99 1854.62 Q1581.38 1851.76 1577.05 1851.76 Q1572.15 1851.76 1569.19 1854.53 Q1566.26 1857.3 1565.81 1862.33 L1586.69 1862.29 Z\" fill=\"#000000\" fill-rule=\"nonzero\" fill-opacity=\"1\" /><polyline clip-path=\"url(#clip372)\" style=\"stroke:#000000; stroke-linecap:round; stroke-linejoin:round; stroke-width:2; stroke-opacity:0.1; fill:none\" points=\"210.238,1734.12 2640.76,1734.12 \"/>\n",
              "<polyline clip-path=\"url(#clip372)\" style=\"stroke:#000000; stroke-linecap:round; stroke-linejoin:round; stroke-width:2; stroke-opacity:0.1; fill:none\" points=\"210.238,1382.69 2640.76,1382.69 \"/>\n",
              "<polyline clip-path=\"url(#clip372)\" style=\"stroke:#000000; stroke-linecap:round; stroke-linejoin:round; stroke-width:2; stroke-opacity:0.1; fill:none\" points=\"210.238,1031.25 2640.76,1031.25 \"/>\n",
              "<polyline clip-path=\"url(#clip372)\" style=\"stroke:#000000; stroke-linecap:round; stroke-linejoin:round; stroke-width:2; stroke-opacity:0.1; fill:none\" points=\"210.238,679.821 2640.76,679.821 \"/>\n",
              "<polyline clip-path=\"url(#clip372)\" style=\"stroke:#000000; stroke-linecap:round; stroke-linejoin:round; stroke-width:2; stroke-opacity:0.1; fill:none\" points=\"210.238,328.39 2640.76,328.39 \"/>\n",
              "<polyline clip-path=\"url(#clip370)\" style=\"stroke:#000000; stroke-linecap:round; stroke-linejoin:round; stroke-width:4; stroke-opacity:1; fill:none\" points=\"210.238,1734.12 210.238,47.2441 \"/>\n",
              "<polyline clip-path=\"url(#clip370)\" style=\"stroke:#000000; stroke-linecap:round; stroke-linejoin:round; stroke-width:4; stroke-opacity:1; fill:none\" points=\"210.238,1734.12 229.135,1734.12 \"/>\n",
              "<polyline clip-path=\"url(#clip370)\" style=\"stroke:#000000; stroke-linecap:round; stroke-linejoin:round; stroke-width:4; stroke-opacity:1; fill:none\" points=\"210.238,1382.69 229.135,1382.69 \"/>\n",
              "<polyline clip-path=\"url(#clip370)\" style=\"stroke:#000000; stroke-linecap:round; stroke-linejoin:round; stroke-width:4; stroke-opacity:1; fill:none\" points=\"210.238,1031.25 229.135,1031.25 \"/>\n",
              "<polyline clip-path=\"url(#clip370)\" style=\"stroke:#000000; stroke-linecap:round; stroke-linejoin:round; stroke-width:4; stroke-opacity:1; fill:none\" points=\"210.238,679.821 229.135,679.821 \"/>\n",
              "<polyline clip-path=\"url(#clip370)\" style=\"stroke:#000000; stroke-linecap:round; stroke-linejoin:round; stroke-width:4; stroke-opacity:1; fill:none\" points=\"210.238,328.39 229.135,328.39 \"/>\n",
              "<path clip-path=\"url(#clip370)\" d=\"M157.973 1719.92 Q154.362 1719.92 152.534 1723.48 Q150.728 1727.02 150.728 1734.15 Q150.728 1741.26 152.534 1744.82 Q154.362 1748.36 157.973 1748.36 Q161.608 1748.36 163.413 1744.82 Q165.242 1741.26 165.242 1734.15 Q165.242 1727.02 163.413 1723.48 Q161.608 1719.92 157.973 1719.92 M157.973 1716.21 Q163.784 1716.21 166.839 1720.82 Q169.918 1725.4 169.918 1734.15 Q169.918 1742.88 166.839 1747.48 Q163.784 1752.07 157.973 1752.07 Q152.163 1752.07 149.085 1747.48 Q146.029 1742.88 146.029 1734.15 Q146.029 1725.4 149.085 1720.82 Q152.163 1716.21 157.973 1716.21 Z\" fill=\"#000000\" fill-rule=\"nonzero\" fill-opacity=\"1\" /><path clip-path=\"url(#clip370)\" d=\"M149.015 1365.41 L167.372 1365.41 L167.372 1369.34 L153.298 1369.34 L153.298 1377.81 Q154.316 1377.47 155.335 1377.3 Q156.353 1377.12 157.372 1377.12 Q163.159 1377.12 166.538 1380.29 Q169.918 1383.46 169.918 1388.88 Q169.918 1394.46 166.446 1397.56 Q162.973 1400.64 156.654 1400.64 Q154.478 1400.64 152.21 1400.27 Q149.964 1399.9 147.557 1399.15 L147.557 1394.46 Q149.64 1395.59 151.862 1396.15 Q154.085 1396.7 156.561 1396.7 Q160.566 1396.7 162.904 1394.59 Q165.242 1392.49 165.242 1388.88 Q165.242 1385.27 162.904 1383.16 Q160.566 1381.05 156.561 1381.05 Q154.686 1381.05 152.811 1381.47 Q150.96 1381.89 149.015 1382.77 L149.015 1365.41 Z\" fill=\"#000000\" fill-rule=\"nonzero\" fill-opacity=\"1\" /><path clip-path=\"url(#clip370)\" d=\"M118.622 1044.6 L126.261 1044.6 L126.261 1018.23 L117.951 1019.9 L117.951 1015.64 L126.214 1013.97 L130.89 1013.97 L130.89 1044.6 L138.529 1044.6 L138.529 1048.53 L118.622 1048.53 L118.622 1044.6 Z\" fill=\"#000000\" fill-rule=\"nonzero\" fill-opacity=\"1\" /><path clip-path=\"url(#clip370)\" d=\"M157.973 1017.05 Q154.362 1017.05 152.534 1020.62 Q150.728 1024.16 150.728 1031.29 Q150.728 1038.39 152.534 1041.96 Q154.362 1045.5 157.973 1045.5 Q161.608 1045.5 163.413 1041.96 Q165.242 1038.39 165.242 1031.29 Q165.242 1024.16 163.413 1020.62 Q161.608 1017.05 157.973 1017.05 M157.973 1013.35 Q163.784 1013.35 166.839 1017.95 Q169.918 1022.54 169.918 1031.29 Q169.918 1040.01 166.839 1044.62 Q163.784 1049.2 157.973 1049.2 Q152.163 1049.2 149.085 1044.62 Q146.029 1040.01 146.029 1031.29 Q146.029 1022.54 149.085 1017.95 Q152.163 1013.35 157.973 1013.35 Z\" fill=\"#000000\" fill-rule=\"nonzero\" fill-opacity=\"1\" /><path clip-path=\"url(#clip370)\" d=\"M119.617 693.166 L127.256 693.166 L127.256 666.801 L118.946 668.467 L118.946 664.208 L127.21 662.541 L131.886 662.541 L131.886 693.166 L139.525 693.166 L139.525 697.101 L119.617 697.101 L119.617 693.166 Z\" fill=\"#000000\" fill-rule=\"nonzero\" fill-opacity=\"1\" /><path clip-path=\"url(#clip370)\" d=\"M149.015 662.541 L167.372 662.541 L167.372 666.477 L153.298 666.477 L153.298 674.949 Q154.316 674.602 155.335 674.44 Q156.353 674.254 157.372 674.254 Q163.159 674.254 166.538 677.426 Q169.918 680.597 169.918 686.014 Q169.918 691.592 166.446 694.694 Q162.973 697.773 156.654 697.773 Q154.478 697.773 152.21 697.402 Q149.964 697.032 147.557 696.291 L147.557 691.592 Q149.64 692.726 151.862 693.282 Q154.085 693.838 156.561 693.838 Q160.566 693.838 162.904 691.731 Q165.242 689.625 165.242 686.014 Q165.242 682.402 162.904 680.296 Q160.566 678.189 156.561 678.189 Q154.686 678.189 152.811 678.606 Q150.96 679.023 149.015 679.902 L149.015 662.541 Z\" fill=\"#000000\" fill-rule=\"nonzero\" fill-opacity=\"1\" /><path clip-path=\"url(#clip370)\" d=\"M121.839 341.734 L138.159 341.734 L138.159 345.67 L116.214 345.67 L116.214 341.734 Q118.876 338.98 123.46 334.35 Q128.066 329.697 129.247 328.355 Q131.492 325.832 132.372 324.096 Q133.275 322.336 133.275 320.647 Q133.275 317.892 131.33 316.156 Q129.409 314.42 126.307 314.42 Q124.108 314.42 121.654 315.184 Q119.224 315.948 116.446 317.498 L116.446 312.776 Q119.27 311.642 121.724 311.063 Q124.177 310.485 126.214 310.485 Q131.585 310.485 134.779 313.17 Q137.974 315.855 137.974 320.346 Q137.974 322.475 137.163 324.397 Q136.376 326.295 134.27 328.887 Q133.691 329.559 130.589 332.776 Q127.488 335.971 121.839 341.734 Z\" fill=\"#000000\" fill-rule=\"nonzero\" fill-opacity=\"1\" /><path clip-path=\"url(#clip370)\" d=\"M157.973 314.188 Q154.362 314.188 152.534 317.753 Q150.728 321.295 150.728 328.424 Q150.728 335.531 152.534 339.096 Q154.362 342.637 157.973 342.637 Q161.608 342.637 163.413 339.096 Q165.242 335.531 165.242 328.424 Q165.242 321.295 163.413 317.753 Q161.608 314.188 157.973 314.188 M157.973 310.485 Q163.784 310.485 166.839 315.091 Q169.918 319.674 169.918 328.424 Q169.918 337.151 166.839 341.758 Q163.784 346.341 157.973 346.341 Q152.163 346.341 149.085 341.758 Q146.029 337.151 146.029 328.424 Q146.029 319.674 149.085 315.091 Q152.163 310.485 157.973 310.485 Z\" fill=\"#000000\" fill-rule=\"nonzero\" fill-opacity=\"1\" /><path clip-path=\"url(#clip370)\" d=\"M17.7787 946.54 L24.5582 946.54 Q21.5345 949.786 20.0386 953.478 Q18.5426 957.139 18.5426 961.276 Q18.5426 969.424 23.5397 973.753 Q28.5049 978.082 37.9262 978.082 Q47.3156 978.082 52.3127 973.753 Q57.2779 969.424 57.2779 961.276 Q57.2779 957.139 55.782 953.478 Q54.2861 949.786 51.2623 946.54 L57.9782 946.54 Q60.2698 949.913 61.4156 953.701 Q62.5615 957.457 62.5615 961.658 Q62.5615 972.448 55.973 978.655 Q49.3526 984.861 37.9262 984.861 Q26.4679 984.861 19.8794 978.655 Q13.2591 972.448 13.2591 961.658 Q13.2591 957.393 14.4049 953.637 Q15.5189 949.85 17.7787 946.54 Z\" fill=\"#000000\" fill-rule=\"nonzero\" fill-opacity=\"1\" /><path clip-path=\"url(#clip370)\" d=\"M30.0964 923.05 Q30.0964 927.761 33.7885 930.498 Q37.4488 933.235 43.8463 933.235 Q50.2438 933.235 53.9359 930.53 Q57.5962 927.793 57.5962 923.05 Q57.5962 918.371 53.9041 915.634 Q50.212 912.897 43.8463 912.897 Q37.5124 912.897 33.8203 915.634 Q30.0964 918.371 30.0964 923.05 M25.1311 923.05 Q25.1311 915.411 30.0964 911.051 Q35.0616 906.69 43.8463 906.69 Q52.5991 906.69 57.5962 911.051 Q62.5615 915.411 62.5615 923.05 Q62.5615 930.721 57.5962 935.081 Q52.5991 939.41 43.8463 939.41 Q35.0616 939.41 30.0964 935.081 Q25.1311 930.721 25.1311 923.05 Z\" fill=\"#000000\" fill-rule=\"nonzero\" fill-opacity=\"1\" /><path clip-path=\"url(#clip370)\" d=\"M47.5702 897.587 L25.9905 897.587 L25.9905 891.731 L47.3474 891.731 Q52.4082 891.731 54.9545 889.758 Q57.4689 887.784 57.4689 883.837 Q57.4689 879.095 54.4452 876.358 Q51.4215 873.589 46.2016 873.589 L25.9905 873.589 L25.9905 867.732 L61.6384 867.732 L61.6384 873.589 L56.1639 873.589 Q59.4104 875.721 61.0019 878.554 Q62.5615 881.355 62.5615 885.079 Q62.5615 891.222 58.742 894.404 Q54.9226 897.587 47.5702 897.587 M25.1311 882.851 L25.1311 882.851 Z\" fill=\"#000000\" fill-rule=\"nonzero\" fill-opacity=\"1\" /><path clip-path=\"url(#clip370)\" d=\"M40.1224 826.037 L61.6384 826.037 L61.6384 831.893 L40.3133 831.893 Q35.2526 831.893 32.7381 833.867 Q30.2237 835.84 30.2237 839.787 Q30.2237 844.529 33.2474 847.266 Q36.2711 850.004 41.491 850.004 L61.6384 850.004 L61.6384 855.892 L25.9905 855.892 L25.9905 850.004 L31.5287 850.004 Q28.314 847.903 26.7225 845.07 Q25.1311 842.206 25.1311 838.482 Q25.1311 832.339 28.9505 829.188 Q32.7381 826.037 40.1224 826.037 Z\" fill=\"#000000\" fill-rule=\"nonzero\" fill-opacity=\"1\" /><path clip-path=\"url(#clip370)\" d=\"M15.869 808.563 L25.9905 808.563 L25.9905 796.5 L30.542 796.5 L30.542 808.563 L49.8937 808.563 Q54.2542 808.563 55.4955 807.385 Q56.7368 806.176 56.7368 802.516 L56.7368 796.5 L61.6384 796.5 L61.6384 802.516 Q61.6384 809.295 59.124 811.873 Q56.5777 814.451 49.8937 814.451 L30.542 814.451 L30.542 818.748 L25.9905 818.748 L25.9905 814.451 L15.869 814.451 L15.869 808.563 Z\" fill=\"#000000\" fill-rule=\"nonzero\" fill-opacity=\"1\" /><path clip-path=\"url(#clip372)\" d=\"M343.921 47.2441 L343.921 1734.12 L704.446 1734.12 L704.446 47.2441 L343.921 47.2441 L343.921 47.2441  Z\" fill=\"#009af9\" fill-rule=\"evenodd\" fill-opacity=\"1\"/>\n",
              "<polyline clip-path=\"url(#clip372)\" style=\"stroke:#000000; stroke-linecap:round; stroke-linejoin:round; stroke-width:4; stroke-opacity:1; fill:none\" points=\"343.921,47.2441 343.921,1734.12 704.446,1734.12 704.446,47.2441 343.921,47.2441 \"/>\n",
              "<path clip-path=\"url(#clip372)\" d=\"M704.446 890.681 L704.446 1734.12 L1064.97 1734.12 L1064.97 890.681 L704.446 890.681 L704.446 890.681  Z\" fill=\"#009af9\" fill-rule=\"evenodd\" fill-opacity=\"1\"/>\n",
              "<polyline clip-path=\"url(#clip372)\" style=\"stroke:#000000; stroke-linecap:round; stroke-linejoin:round; stroke-width:4; stroke-opacity:1; fill:none\" points=\"704.446,890.681 704.446,1734.12 1064.97,1734.12 1064.97,890.681 704.446,890.681 \"/>\n",
              "<path clip-path=\"url(#clip372)\" d=\"M1064.97 679.821 L1064.97 1734.12 L1425.5 1734.12 L1425.5 679.821 L1064.97 679.821 L1064.97 679.821  Z\" fill=\"#009af9\" fill-rule=\"evenodd\" fill-opacity=\"1\"/>\n",
              "<polyline clip-path=\"url(#clip372)\" style=\"stroke:#000000; stroke-linecap:round; stroke-linejoin:round; stroke-width:4; stroke-opacity:1; fill:none\" points=\"1064.97,679.821 1064.97,1734.12 1425.5,1734.12 1425.5,679.821 1064.97,679.821 \"/>\n",
              "<path clip-path=\"url(#clip372)\" d=\"M1425.5 609.535 L1425.5 1734.12 L1786.02 1734.12 L1786.02 609.535 L1425.5 609.535 L1425.5 609.535  Z\" fill=\"#009af9\" fill-rule=\"evenodd\" fill-opacity=\"1\"/>\n",
              "<polyline clip-path=\"url(#clip372)\" style=\"stroke:#000000; stroke-linecap:round; stroke-linejoin:round; stroke-width:4; stroke-opacity:1; fill:none\" points=\"1425.5,609.535 1425.5,1734.12 1786.02,1734.12 1786.02,609.535 1425.5,609.535 \"/>\n",
              "<path clip-path=\"url(#clip372)\" d=\"M1786.02 468.962 L1786.02 1734.12 L2146.55 1734.12 L2146.55 468.962 L1786.02 468.962 L1786.02 468.962  Z\" fill=\"#009af9\" fill-rule=\"evenodd\" fill-opacity=\"1\"/>\n",
              "<polyline clip-path=\"url(#clip372)\" style=\"stroke:#000000; stroke-linecap:round; stroke-linejoin:round; stroke-width:4; stroke-opacity:1; fill:none\" points=\"1786.02,468.962 1786.02,1734.12 2146.55,1734.12 2146.55,468.962 1786.02,468.962 \"/>\n",
              "<path clip-path=\"url(#clip372)\" d=\"M2146.55 679.821 L2146.55 1734.12 L2507.07 1734.12 L2507.07 679.821 L2146.55 679.821 L2146.55 679.821  Z\" fill=\"#009af9\" fill-rule=\"evenodd\" fill-opacity=\"1\"/>\n",
              "<polyline clip-path=\"url(#clip372)\" style=\"stroke:#000000; stroke-linecap:round; stroke-linejoin:round; stroke-width:4; stroke-opacity:1; fill:none\" points=\"2146.55,679.821 2146.55,1734.12 2507.07,1734.12 2507.07,679.821 2146.55,679.821 \"/>\n",
              "<circle clip-path=\"url(#clip372)\" style=\"fill:#009af9; stroke:none; fill-opacity:0\" cx=\"884.709\" cy=\"890.681\" r=\"2\"/>\n",
              "<circle clip-path=\"url(#clip372)\" style=\"fill:#009af9; stroke:none; fill-opacity:0\" cx=\"1245.23\" cy=\"679.821\" r=\"2\"/>\n",
              "<circle clip-path=\"url(#clip372)\" style=\"fill:#009af9; stroke:none; fill-opacity:0\" cx=\"1605.76\" cy=\"609.535\" r=\"2\"/>\n",
              "<circle clip-path=\"url(#clip372)\" style=\"fill:#009af9; stroke:none; fill-opacity:0\" cx=\"1966.28\" cy=\"468.962\" r=\"2\"/>\n",
              "<circle clip-path=\"url(#clip372)\" style=\"fill:#009af9; stroke:none; fill-opacity:0\" cx=\"2326.81\" cy=\"679.821\" r=\"2\"/>\n",
              "</svg>"
            ]
          }
        }
      ],
      "source": [
        "histogram(dice_rolls, legend=:false, bins=6)\n",
        "ylabel!(\"Count\")\n",
        "xlabel!(\"Dice Value\")"
      ],
      "id": "10"
    },
    {
      "cell_type": "markdown",
      "metadata": {},
      "source": [
        "### Instructions\n",
        "\n",
        "**Remember to**:\n",
        "\n",
        "-   Evaluate all of your code cells, in order (using a `Run All`\n",
        "    command). This will make sure all output is visible and that the\n",
        "    code cells were evaluated in the correct order.\n",
        "-   Tag each of the problems when you submit to Gradescope; a 10%\n",
        "    penalty will be deducted if this is not done.\n",
        "\n",
        "## Exercise (3 Points)\n",
        "\n",
        "The Showcase is the final round of every episode of The Price is Right,\n",
        "matching the two big winners from the episode. Each contestant is shown\n",
        "a “showcase” of prizes, which are usually some combination of a trip, a\n",
        "motor vehicle, some furniture, and maybe some other stuff. They then\n",
        "each have to make a bid on the retail price of the showcase. The rules\n",
        "are:\n",
        "\n",
        "-   an overbid is an automatic loss;\n",
        "-   the contest who gets closest to the retail price wins their\n",
        "    showcase;\n",
        "-   if a contestant gets within \\$250 of the retail price and is closer\n",
        "    than their opponent, they win both showcases.\n",
        "\n",
        "Your goal is to find a wager which maximizes your expected winnings,\n",
        "which we may as well call utility, based on your assessment of the\n",
        "probability of your showcase retail price. Make the following\n",
        "assumptions about your expected winnings if you don’t overbid:\n",
        "\n",
        "-   If you win both showcases, the value is the double of the single\n",
        "    showcase value.\n",
        "-   If you did not win both showcases but bid under the showcase value,\n",
        "    the probability of being outbid increases linearly as the distance\n",
        "    between your bid and the value increases (in other words, if you bid\n",
        "    the exact value, you win with probability 1, and if you bid \\$0, you\n",
        "    win with probability 0).\n",
        "\n",
        "We’ll assume that the distribution of all showcases offered by the show\n",
        "is given as truncated normal distribution, which means a normal\n",
        "distribution which has an upper and/or lower bound. `Distributions.jl`\n",
        "makes it easy to specify truncations on any distribution, not just\n",
        "normal distributions. For example, we’ll use the distribution shown in\n",
        "<a href=\"#fig-values\" class=\"quarto-xref\">Figure 1</a> for the showcase\n",
        "values (you can just directly use the `showcase_dist` distribution in\n",
        "your lab code)."
      ],
      "id": "348c69c6-56e3-4944-827b-7097b2c26e8c"
    },
    {
      "cell_type": "code",
      "execution_count": 1,
      "metadata": {},
      "outputs": [],
      "source": [
        "showcase_dist = truncated(Normal(31000, 4500), lower=5000, upper=42000)\n",
        "showcase_samples = rand(showcase_dist, 10_000)\n",
        "histogram(showcase_samples)"
      ],
      "id": "cell-fig-values"
    },
    {
      "cell_type": "markdown",
      "metadata": {},
      "source": [
        "Find your expected winnings if you bid \\$35,000. Plot the outcomes of\n",
        "your Monte Carlo experiment (iterations vs. running estimate). How did\n",
        "you decide how many samples to use?"
      ],
      "id": "c259673b-2e40-4a5c-bde1-181ec75b4516"
    },
    {
      "cell_type": "markdown",
      "metadata": {},
      "source": [
        "## References\n",
        "\n",
        "Put any consulted sources here, including classmates you worked with/who\n",
        "helped you."
      ],
      "id": "65ab2cd8-3a7d-4ecd-83d4-50f9a7de4fe1"
    }
  ],
  "nbformat": 4,
  "nbformat_minor": 5,
  "metadata": {
    "kernel_info": {
      "name": "julia"
    },
    "kernelspec": {
      "name": "julia",
      "display_name": "Julia",
      "language": "julia"
    },
    "language_info": {
      "name": "julia",
      "codemirror_mode": "julia",
      "version": "1.10.4"
    }
  }
}